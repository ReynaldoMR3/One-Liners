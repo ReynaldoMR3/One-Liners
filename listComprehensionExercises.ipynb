{
 "cells": [
  {
   "cell_type": "code",
   "execution_count": 4,
   "metadata": {
    "collapsed": true
   },
   "outputs": [
    {
     "data": {
      "text/plain": "'\\nExercises\\n'"
     },
     "execution_count": 4,
     "metadata": {},
     "output_type": "execute_result"
    }
   ],
   "source": [
    "\"\"\"\n",
    "Exercises\n",
    "\"\"\""
   ]
  },
  {
   "cell_type": "code",
   "execution_count": 8,
   "outputs": [
    {
     "data": {
      "text/plain": "[(0, 0), (0, 1), (0, 2), (1, 0), (1, 1), (1, 2), (2, 0), (2, 1), (2, 2)]"
     },
     "execution_count": 8,
     "metadata": {},
     "output_type": "execute_result"
    }
   ],
   "source": [
    "\"\"\"\n",
    "Create a list that contains the following output:\n",
    "[(0, 0), (0, 1), (0, 2), (1, 0), (1, 1), (1, 2), (2, 0), (2, 1), (2, 2)]\n",
    "\"\"\"\n",
    "\n",
    "tuples = [(x,y) for x in range(3) for y in range(3)]\n",
    "tuples"
   ],
   "metadata": {
    "collapsed": false,
    "pycharm": {
     "name": "#%%\n"
    }
   }
  },
  {
   "cell_type": "code",
   "execution_count": 9,
   "outputs": [
    {
     "data": {
      "text/plain": "[('Alice', 100000), ('Carol', 122908)]"
     },
     "execution_count": 9,
     "metadata": {},
     "output_type": "execute_result"
    }
   ],
   "source": [
    "\"\"\"\n",
    "Create a list with the employees that earn 100000 or more\n",
    "\"\"\"\n",
    "employees = {'Alice':100000,\n",
    "             'Bob' : 99817,\n",
    "             'Carol' : 122908,\n",
    "             'Frank' : 88123,\n",
    "             'Eve' : 93121}\n",
    "\n",
    "big_salary = [(k,v) for k,v in employees.items() if v >= 100000]\n",
    "big_salary"
   ],
   "metadata": {
    "collapsed": false,
    "pycharm": {
     "name": "#%%\n"
    }
   }
  },
  {
   "cell_type": "code",
   "execution_count": 17,
   "outputs": [
    {
     "data": {
      "text/plain": "[[],\n ['Call',\n  'Ishmael.',\n  'Some',\n  'years',\n  'never',\n  'mind',\n  'long',\n  'precisely',\n  'having'],\n ['little', 'money', 'purse,', 'nothing', 'particular', 'interest'],\n ['shore,', 'thought', 'would', 'sail', 'about', 'little', 'watery', 'part'],\n ['world.', 'have', 'driving', 'spleen,', 'regulating'],\n ['circulation.', 'Moby', 'Dick']]"
     },
     "execution_count": 17,
     "metadata": {},
     "output_type": "execute_result"
    }
   ],
   "source": [
    "\"\"\"\n",
    " given a multiline string,\n",
    " create a list of lists—each consisting of all the words in a line\n",
    " that have more than three characters.\n",
    "\"\"\"\n",
    "text = '''\n",
    "Call me Ishmael. Some years ago - never mind how long precisely - having\n",
    "little or no money in my purse, and nothing particular to interest me\n",
    "on shore, I thought I would sail about a little and see the watery part\n",
    "of the world. It is a way I have of driving off the spleen, and regulating\n",
    "the circulation. - Moby Dick'''\n",
    "\n",
    "important_words = [[i for i in line.split() if len(i) > 3] for line in text.split(\"\\n\")]\n",
    "important_words"
   ],
   "metadata": {
    "collapsed": false,
    "pycharm": {
     "name": "#%%\n"
    }
   }
  },
  {
   "cell_type": "code",
   "execution_count": 98,
   "outputs": [
    {
     "data": {
      "text/plain": "[(True, 'lambda functions are anonymous functions.'),\n (True, 'anonymous functions dont have a name.'),\n ('functions are objects in Python.', False)]"
     },
     "execution_count": 98,
     "metadata": {},
     "output_type": "execute_result"
    }
   ],
   "source": [
    "\"\"\"\n",
    "When given a list of strings, our next one-liner creates a new list of tuples,\n",
    "each consisting of a Boolean value and the original string.\n",
    "The Boolean value indicates whether the string 'anonymous' appears in\n",
    "the original string! We call the resulting list mark because\n",
    "the Boolean values mark the string elements in the list that contain the\n",
    "string 'anonymous'.\n",
    "\"\"\"\n",
    "\n",
    "txt = ['lambda functions are anonymous functions.',\n",
    "       'anonymous functions dont have a name.',\n",
    "       'functions are objects in Python.']\n",
    "\n",
    "boolean = list(map(lambda s: (s, True) if 'anonymous' in s else (s, False), txt))\n",
    "boolean\n",
    "\n",
    "mark = [(True, s) if 'anonymous' in s else (s, False) for s in txt]\n",
    "mark"
   ],
   "metadata": {
    "collapsed": false,
    "pycharm": {
     "name": "#%%\n"
    }
   }
  },
  {
   "cell_type": "code",
   "execution_count": 38,
   "outputs": [
    {
     "name": "stdout",
     "output_type": "stream",
     "text": [
      "a fully-managed MySQL and PostgreSQL\n"
     ]
    }
   ],
   "source": [
    "\"\"\"\n",
    "Our goal is to find a particular text query within a multiline string.\n",
    "You want to find the query in the text and return its immediate environment,\n",
    "up to 18 positions around the found query.\n",
    "Extracting the environment as well as the query is useful for seeing the\n",
    "textual context of the found string—just as Google presents text snippets\n",
    "around a searched keyword. You’re looking for the string 'SQL' in an Amazon\n",
    "letter to shareholders—with the immediate environment of up to 18 positions\n",
    "around the string 'SQL'.\n",
    "\"\"\"\n",
    "\n",
    "letters_amazon = '''\n",
    "We spent several years building our own database engine,\n",
    "Amazon Aurora, a fully-managed MySQL and PostgreSQL-compatible\n",
    "service with the same or better durability and availability as\n",
    "the commercial engines, but at one-tenth of the cost. We were\n",
    "not surprised when this worked.\n",
    "'''\n",
    "\n",
    "find = lambda text,string: text[text.find(string)-18:text.find(string)+18] if string in text else \"Not Found\"\n",
    "\n",
    "print(find(letters_amazon, 'SQL'))"
   ],
   "metadata": {
    "collapsed": false,
    "pycharm": {
     "name": "#%%\n"
    }
   }
  },
  {
   "cell_type": "code",
   "execution_count": 39,
   "outputs": [
    {
     "data": {
      "text/plain": "[[9.9, 9.8, 9.5], [9.5, 9.4, 9.2], [8.4, 7.9, 8.0], [7.1, 4.8, 4.7]]"
     },
     "execution_count": 39,
     "metadata": {},
     "output_type": "execute_result"
    }
   ],
   "source": [
    "\"\"\"\n",
    "Our goal is to create a new training data sample from our data—a list of lists,\n",
    "each consisting of six floats by including only every other float value from\n",
    "the original data set.\n",
    "\"\"\"\n",
    "price = [[9.9, 9.8, 9.8, 9.4, 9.5, 9.7],\n",
    "         [9.5, 9.4, 9.4, 9.3, 9.2, 9.1],\n",
    "         [8.4, 7.9, 7.9, 8.1, 8.0, 8.0],\n",
    "         [7.1, 5.9, 4.8, 4.8, 4.7, 3.9]]\n",
    "\n",
    "sample = [line[::2] for line in price]\n",
    "sample"
   ],
   "metadata": {
    "collapsed": false,
    "pycharm": {
     "name": "#%%\n"
    }
   }
  },
  {
   "cell_type": "code",
   "execution_count": 50,
   "outputs": [],
   "source": [
    "\"\"\"\n",
    "Our goal is to replace every other string with the string immediately in front of it\n",
    "\"\"\"\n",
    "visitors = ['Firefox', 'corrupted', 'Chrome', 'corrupted',\n",
    "            'Safari', 'corrupted', 'Safari', 'corrupted',\n",
    "            'Chrome', 'corrupted', 'Firefox', 'corrupted']\n",
    "\n",
    "visitors[1::2] = visitors[::2]"
   ],
   "metadata": {
    "collapsed": false,
    "pycharm": {
     "name": "#%%\n"
    }
   }
  },
  {
   "cell_type": "code",
   "execution_count": 78,
   "outputs": [
    {
     "data": {
      "text/plain": "<Figure size 432x288 with 1 Axes>",
      "image/png": "[encoded data removed]"
     },
     "metadata": {
      "needs_background": "light"
     },
     "output_type": "display_data"
    }
   ],
   "source": [
    "\"\"\"\n",
    "Given a list of integers that reflect the measured cardiac cycle,\n",
    "you first want to clean the data by removing the first and last two values\n",
    "from the list. Second, you create a new list with expected future heart rates\n",
    "by copying the cardiac cycle to future time instances.\n",
    "\"\"\"\n",
    "import matplotlib.pyplot as plt\n",
    "\n",
    "cardiac_cycle = [62, 60, 62, 64, 68, 77, 80, 76, 71, 66, 61, 60, 62]\n",
    "\n",
    "clean_cycle = cardiac_cycle[1:-2] * 10\n",
    "\n",
    "\n",
    "plt.plot(clean_cycle)\n",
    "plt.show()"
   ],
   "metadata": {
    "collapsed": false,
    "pycharm": {
     "name": "#%%\n"
    }
   }
  },
  {
   "cell_type": "code",
   "execution_count": 87,
   "outputs": [
    {
     "data": {
      "text/plain": "['CheapCompany', 'SosoCompany']"
     },
     "execution_count": 87,
     "metadata": {},
     "output_type": "execute_result"
    }
   ],
   "source": [
    "\"\"\"\n",
    "Our data is a dictionary of dictionaries storing the\n",
    "hourly wages of company employees. You want to extract a\n",
    "list of the companies paying below your state’s\n",
    "minimum wage (< $9) for at least one employee\n",
    "\"\"\"\n",
    "\n",
    "companies = {\n",
    "    'CoolCompany' : {'Alice' : 33, 'Bob' : 28, 'Frank' : 29},\n",
    "    'CheapCompany' : {'Ann' : 4, 'Lee' : 9, 'Chrisi' : 7},\n",
    "    'SosoCompany' : {'Esther' : 38, 'Cole' : 8, 'Paris' : 18}}\n",
    "\n",
    "bad_comp = [comp for comp in companies if any(y<9 for y in companies[comp].values())]\n",
    "bad_comp"
   ],
   "metadata": {
    "collapsed": false,
    "pycharm": {
     "name": "#%%\n"
    }
   }
  },
  {
   "cell_type": "code",
   "execution_count": 88,
   "outputs": [
    {
     "name": "stdout",
     "output_type": "stream",
     "text": [
      "[(1, 4), (2, 5), (3, 6)]\n",
      "[1, 2, 3]\n",
      "[4, 5, 6]\n"
     ]
    }
   ],
   "source": [
    "\"\"\"\n",
    "ZIP\n",
    "\"\"\"\n",
    "lst_1 = [1, 2, 3]\n",
    "lst_2 = [4, 5, 6]\n",
    "\n",
    "# Zip two lists together\n",
    "zipped = list(zip(lst_1, lst_2))\n",
    "print(zipped)\n",
    "# [(1, 4), (2, 5), (3, 6)]\n",
    "\n",
    "# Unzip to lists again\n",
    "lst_1_new, lst_2_new = zip(*zipped)\n",
    "print(list(lst_1_new))\n",
    "print(list(lst_2_new))"
   ],
   "metadata": {
    "collapsed": false,
    "pycharm": {
     "name": "#%%\n"
    }
   }
  },
  {
   "cell_type": "code",
   "execution_count": 99,
   "outputs": [
    {
     "data": {
      "text/plain": "[{'name': 'Alice', 'salary': 180000, 'job': 'data scientist'},\n {'name': 'Bob', 'salary': 99000, 'job': 'mid-level manager'},\n {'name': 'Frank', 'salary': 87000, 'job': 'CEO'}]"
     },
     "execution_count": 99,
     "metadata": {},
     "output_type": "execute_result"
    }
   ],
   "source": [
    "\"\"\"\n",
    "Your data consists of the column names and the employee data organized as\n",
    "list of tuples (rows). Assign the column names to the rows and, thus,\n",
    "create a list of dictionaries. Each dictionary assigns the column names to\n",
    "the respective data values\n",
    "\"\"\"\n",
    "column_names = ['name', 'salary', 'job']\n",
    "db_rows = [('Alice', 180000, 'data scientist'),\n",
    "           ('Bob', 99000, 'mid-level manager'),\n",
    "           ('Frank', 87000, 'CEO')]\n",
    "\n",
    "[dict(zip(column_names, row)) for row in db_rows]\n",
    "\n"
   ],
   "metadata": {
    "collapsed": false,
    "pycharm": {
     "name": "#%%\n"
    }
   }
  }
 ],
 "metadata": {
  "kernelspec": {
   "display_name": "Python 3",
   "language": "python",
   "name": "python3"
  },
  "language_info": {
   "codemirror_mode": {
    "name": "ipython",
    "version": 2
   },
   "file_extension": ".py",
   "mimetype": "text/x-python",
   "name": "python",
   "nbconvert_exporter": "python",
   "pygments_lexer": "ipython2",
   "version": "2.7.6"
  }
 },
 "nbformat": 4,
 "nbformat_minor": 0
}