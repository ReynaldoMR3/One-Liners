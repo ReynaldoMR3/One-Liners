{
 "cells": [
  {
   "cell_type": "code",
   "execution_count": 2,
   "metadata": {
    "collapsed": true
   },
   "outputs": [
    {
     "name": "stdout",
     "output_type": "stream",
     "text": [
      "[1 2 3]\n"
     ]
    }
   ],
   "source": [
    "import numpy as np\n",
    "\n",
    "# Creating a 1D array from a list\n",
    "a = np.array([1, 2, 3])\n",
    "print(a)"
   ]
  },
  {
   "cell_type": "code",
   "execution_count": 3,
   "outputs": [
    {
     "name": "stdout",
     "output_type": "stream",
     "text": [
      "[[1 2]\n",
      " [3 4]]\n"
     ]
    }
   ],
   "source": [
    "# Creating a 2D array from a list of lists\n",
    "b = np.array([[1, 2],\n",
    "              [3, 4]])\n",
    "\n",
    "print(b)"
   ],
   "metadata": {
    "collapsed": false,
    "pycharm": {
     "name": "#%%\n"
    }
   }
  },
  {
   "cell_type": "code",
   "execution_count": 4,
   "outputs": [
    {
     "name": "stdout",
     "output_type": "stream",
     "text": [
      "[[[1 2]\n",
      "  [3 4]]\n",
      "\n",
      " [[5 6]\n",
      "  [7 8]]]\n"
     ]
    }
   ],
   "source": [
    "# Creating a 3D array from a list of lists of lists\n",
    "c = np.array([[[1, 2], [3, 4]],\n",
    "              [[5, 6], [7, 8]]])\n",
    "print(c)"
   ],
   "metadata": {
    "collapsed": false,
    "pycharm": {
     "name": "#%%\n"
    }
   }
  },
  {
   "cell_type": "code",
   "execution_count": 5,
   "outputs": [
    {
     "name": "stdout",
     "output_type": "stream",
     "text": [
      "[[2 1 1]\n",
      " [2 2 3]\n",
      " [3 1 2]]\n"
     ]
    }
   ],
   "source": [
    "a = np.array([[1, 0, 0],\n",
    "              [1, 1, 1],\n",
    "              [2, 0, 0]])\n",
    "\n",
    "b = np.array([[1, 1, 1],\n",
    "              [1, 1, 2],\n",
    "              [1, 1, 2]])\n",
    "\n",
    "\n",
    "print(a + b)\n"
   ],
   "metadata": {
    "collapsed": false,
    "pycharm": {
     "name": "#%%\n"
    }
   }
  },
  {
   "cell_type": "code",
   "execution_count": 6,
   "outputs": [
    {
     "name": "stdout",
     "output_type": "stream",
     "text": [
      "[[ 0 -1 -1]\n",
      " [ 0  0 -1]\n",
      " [ 1 -1 -2]]\n"
     ]
    }
   ],
   "source": [
    "print(a - b)"
   ],
   "metadata": {
    "collapsed": false,
    "pycharm": {
     "name": "#%%\n"
    }
   }
  },
  {
   "cell_type": "code",
   "execution_count": 7,
   "outputs": [
    {
     "name": "stdout",
     "output_type": "stream",
     "text": [
      "[[1 0 0]\n",
      " [1 1 2]\n",
      " [2 0 0]]\n"
     ]
    }
   ],
   "source": [
    "\n",
    "print(a * b)"
   ],
   "metadata": {
    "collapsed": false,
    "pycharm": {
     "name": "#%%\n"
    }
   }
  },
  {
   "cell_type": "code",
   "execution_count": 8,
   "outputs": [
    {
     "name": "stdout",
     "output_type": "stream",
     "text": [
      "[[1.  0.  0. ]\n",
      " [1.  1.  0.5]\n",
      " [2.  0.  0. ]]\n"
     ]
    }
   ],
   "source": [
    "\n",
    "print(a / b)"
   ],
   "metadata": {
    "collapsed": false,
    "pycharm": {
     "name": "#%%\n"
    }
   }
  },
  {
   "cell_type": "code",
   "execution_count": 9,
   "outputs": [
    {
     "name": "stdout",
     "output_type": "stream",
     "text": [
      "2\n"
     ]
    }
   ],
   "source": [
    "a = np.array([[1, 0, 0],\n",
    "              [1, 1, 1],\n",
    "              [2, 0, 0]])\n",
    "\n",
    "print(np.max(a))"
   ],
   "metadata": {
    "collapsed": false,
    "pycharm": {
     "name": "#%%\n"
    }
   }
  },
  {
   "cell_type": "code",
   "execution_count": 10,
   "outputs": [
    {
     "name": "stdout",
     "output_type": "stream",
     "text": [
      "0\n"
     ]
    }
   ],
   "source": [
    "print(np.min(a))"
   ],
   "metadata": {
    "collapsed": false,
    "pycharm": {
     "name": "#%%\n"
    }
   }
  },
  {
   "cell_type": "code",
   "execution_count": 11,
   "outputs": [
    {
     "name": "stdout",
     "output_type": "stream",
     "text": [
      "0.6666666666666666\n"
     ]
    }
   ],
   "source": [
    "print(np.average(a))"
   ],
   "metadata": {
    "collapsed": false,
    "pycharm": {
     "name": "#%%\n"
    }
   }
  },
  {
   "cell_type": "code",
   "execution_count": 12,
   "outputs": [
    {
     "name": "stdout",
     "output_type": "stream",
     "text": [
      "81.0\n",
      "\n",
      "[[79.2  75.75 80.34]\n",
      " [66.   54.   52.5 ]\n",
      " [81.   70.4  76.5 ]]\n"
     ]
    }
   ],
   "source": [
    "\"\"\"\n",
    "How do we find the maximum after-tax income in a group of people,\n",
    "given their yearly salary and tax rates?\n",
    "\n",
    "Let’s tackle this problem by using the salary data of Alice, Bob, and Tim.\n",
    "It seems like Bob has enjoyed the highest salary in the last three years.\n",
    "But is he actually bringing home the most money, considering the individual tax rates\n",
    "of our three friends?\n",
    "\"\"\"\n",
    "\n",
    "## Data: yearly salary in ($1000) [2017, 2018, 2019]\n",
    "alice = [99, 101, 103]\n",
    "bob = [110, 108, 105]\n",
    "tim = [90, 88, 85]\n",
    "\n",
    "salaries = np.array([alice, bob, tim])\n",
    "taxation = np.array([[0.2, 0.25, 0.22],\n",
    "                     [0.4, 0.5, 0.5],\n",
    "                     [0.1, 0.2, 0.1]])\n",
    "\n",
    "max_income = np.max(salaries - salaries * taxation)\n",
    "print(max_income)\n",
    "print(\"\")\n",
    "print(salaries - salaries * taxation)"
   ],
   "metadata": {
    "collapsed": false,
    "pycharm": {
     "name": "#%%\n"
    }
   }
  },
  {
   "cell_type": "code",
   "execution_count": 13,
   "outputs": [
    {
     "name": "stdout",
     "output_type": "stream",
     "text": [
      "0.25\n",
      "0.25\n"
     ]
    }
   ],
   "source": [
    "lista_python = [[0.2, 0.25, 0.22],\n",
    "                [0.4, 0.5, 0.5],\n",
    "                [0.1, 0.2, 0.1]]\n",
    "\n",
    "print(lista_python[0][1])\n",
    "\n",
    "lista_numpy = np.array(lista_python)\n",
    "print(lista_numpy[0,1]) #Easier"
   ],
   "metadata": {
    "collapsed": false,
    "pycharm": {
     "name": "#%%\n"
    }
   }
  },
  {
   "cell_type": "code",
   "execution_count": 14,
   "outputs": [
    {
     "name": "stdout",
     "output_type": "stream",
     "text": [
      "[61 59 57]\n"
     ]
    }
   ],
   "source": [
    "a = np.array([55, 56, 57, 58, 59, 60, 61])\n",
    "print(a[:1:-2])"
   ],
   "metadata": {
    "collapsed": false,
    "pycharm": {
     "name": "#%%\n"
    }
   }
  },
  {
   "cell_type": "code",
   "execution_count": 15,
   "outputs": [
    {
     "name": "stdout",
     "output_type": "stream",
     "text": [
      "[61 59]\n"
     ]
    }
   ],
   "source": [
    "print(a[:2:-2])"
   ],
   "metadata": {
    "collapsed": false,
    "pycharm": {
     "name": "#%%\n"
    }
   }
  },
  {
   "cell_type": "code",
   "execution_count": 16,
   "outputs": [
    {
     "name": "stdout",
     "output_type": "stream",
     "text": [
      "[61 59 57]\n",
      "[61 59 57]\n",
      "[60]\n",
      "[60 59]\n"
     ]
    }
   ],
   "source": [
    "print(a[:1:-2])\n",
    "print(a[-1:1:-2])\n",
    "print(a[-2:-3:-1])\n",
    "print(a[-2:-4:-1])"
   ],
   "metadata": {
    "collapsed": false,
    "pycharm": {
     "name": "#%%\n"
    }
   }
  },
  {
   "cell_type": "code",
   "execution_count": 17,
   "outputs": [
    {
     "name": "stdout",
     "output_type": "stream",
     "text": [
      "[ 2  6 10 14]\n"
     ]
    }
   ],
   "source": [
    "a = np.array([[0, 1, 2, 3],\n",
    "              [4, 5, 6, 7],\n",
    "              [8, 9, 10, 11],\n",
    "              [12, 13, 14, 15]])\n",
    "\n",
    "# Third col: [ 2  6 10 14]\n",
    "print(a[:, 2])\n",
    "\n"
   ],
   "metadata": {
    "collapsed": false,
    "pycharm": {
     "name": "#%%\n"
    }
   }
  },
  {
   "cell_type": "code",
   "execution_count": 18,
   "outputs": [
    {
     "name": "stdout",
     "output_type": "stream",
     "text": [
      "[4 5 6 7]\n"
     ]
    }
   ],
   "source": [
    "# Second row: [4 5 6 7]\n",
    "print(a[1, :])"
   ],
   "metadata": {
    "collapsed": false,
    "pycharm": {
     "name": "#%%\n"
    }
   }
  },
  {
   "cell_type": "code",
   "execution_count": 19,
   "outputs": [
    {
     "name": "stdout",
     "output_type": "stream",
     "text": [
      "[4 6]\n"
     ]
    }
   ],
   "source": [
    "# Second row, every other element: [4 6]\n",
    "print(a[1, ::2])"
   ],
   "metadata": {
    "collapsed": false,
    "pycharm": {
     "name": "#%%\n"
    }
   }
  },
  {
   "cell_type": "code",
   "execution_count": 20,
   "outputs": [
    {
     "name": "stdout",
     "output_type": "stream",
     "text": [
      "[[ 0  1  2]\n",
      " [ 4  5  6]\n",
      " [ 8  9 10]\n",
      " [12 13 14]]\n"
     ]
    }
   ],
   "source": [
    "# All columns except last:\n",
    "print(a[:, :-1])"
   ],
   "metadata": {
    "collapsed": false,
    "pycharm": {
     "name": "#%%\n"
    }
   }
  },
  {
   "cell_type": "code",
   "execution_count": 21,
   "outputs": [
    {
     "name": "stdout",
     "output_type": "stream",
     "text": [
      "1\n"
     ]
    }
   ],
   "source": [
    "a = np.array([1, 2, 3, 4])\n",
    "print(a.ndim)"
   ],
   "metadata": {
    "collapsed": false,
    "pycharm": {
     "name": "#%%\n"
    }
   }
  },
  {
   "cell_type": "code",
   "execution_count": 22,
   "outputs": [
    {
     "name": "stdout",
     "output_type": "stream",
     "text": [
      "2\n"
     ]
    }
   ],
   "source": [
    "b = np.array([[2, 1, 2], [3, 2, 3], [4, 3, 4]])\n",
    "print(b.ndim)"
   ],
   "metadata": {
    "collapsed": false,
    "pycharm": {
     "name": "#%%\n"
    }
   }
  },
  {
   "cell_type": "code",
   "execution_count": 23,
   "outputs": [
    {
     "name": "stdout",
     "output_type": "stream",
     "text": [
      "3\n",
      "(2, 3, 3)\n"
     ]
    }
   ],
   "source": [
    "c = np.array([[[1, 2, 3], [2, 3, 4], [3, 4, 5]],\n",
    "              [[1, 2, 4], [2, 3, 5], [3, 4, 6]]])\n",
    "\n",
    "print(c.ndim)\n",
    "print(c.shape)"
   ],
   "metadata": {
    "collapsed": false,
    "pycharm": {
     "name": "#%%\n"
    }
   }
  },
  {
   "cell_type": "code",
   "execution_count": 24,
   "outputs": [
    {
     "data": {
      "text/plain": "array([[143, 145, 150],\n       [127, 140, 145],\n       [118, 118, 127],\n       [129, 131, 137]])"
     },
     "execution_count": 24,
     "metadata": {},
     "output_type": "execute_result"
    }
   ],
   "source": [
    "\"\"\"\n",
    "You have data for a variety of professions, and you want to increase\n",
    "the salaries of just the data scientists by 10 percent every other year.\n",
    "\"\"\"\n",
    "\n",
    "# Data: yearly salary in ($1000) [2025, 2026, 2027]\n",
    "dataScientist =     [130, 132, 137]\n",
    "productManager =    [127, 140, 145]\n",
    "designer =          [118, 118, 127]\n",
    "softwareEngineer =  [129, 131, 137]\n",
    "\n",
    "employees = np.array([dataScientist,\n",
    "                      productManager,\n",
    "                      designer,\n",
    "                      softwareEngineer])\n",
    "\n",
    "employees[0,] = employees[0,]*1.1\n",
    "employees"
   ],
   "metadata": {
    "collapsed": false,
    "pycharm": {
     "name": "#%%\n"
    }
   }
  },
  {
   "cell_type": "code",
   "execution_count": 25,
   "outputs": [
    {
     "name": "stdout",
     "output_type": "stream",
     "text": [
      "(array([0, 1, 1, 2], dtype=int64), array([0, 1, 2, 0], dtype=int64))\n",
      "1\n",
      "2\n"
     ]
    }
   ],
   "source": [
    "X = np.array([[1, 0, 0],\n",
    "              [0, 2, 2],\n",
    "              [3, 0, 0]])\n",
    "\n",
    "print(np.nonzero(X)) #Regresa dos arrays el primero con las filas y el segundo con columnas donde los elementos no son 0\n",
    "print( X[0,0]) #Probando la primer coordenada vemos que contiene el numero 1\n",
    "print( X[1,2]) #Probando la segunda coordenada vemos que contiene el numero 2"
   ],
   "metadata": {
    "collapsed": false,
    "pycharm": {
     "name": "#%%\n"
    }
   }
  },
  {
   "cell_type": "code",
   "execution_count": 26,
   "outputs": [
    {
     "name": "stdout",
     "output_type": "stream",
     "text": [
      "[[False False False]\n",
      " [False  True  True]\n",
      " [False False False]]\n"
     ]
    }
   ],
   "source": [
    "# Utilizando condicionales\n",
    "X = np.array([\n",
    "    [1,0,0],\n",
    "    [0,2,2],\n",
    "    [3,0,0]\n",
    "])\n",
    "X.shape\n",
    "print(X==2)\n",
    "#Ahora el array de np contiene booleans"
   ],
   "metadata": {
    "collapsed": false,
    "pycharm": {
     "name": "#%%\n"
    }
   }
  },
  {
   "cell_type": "code",
   "execution_count": 27,
   "outputs": [
    {
     "data": {
      "text/plain": "{'Berlin', 'Hong Kong', 'New York'}"
     },
     "execution_count": 27,
     "metadata": {},
     "output_type": "execute_result"
    }
   ],
   "source": [
    "#Finding cities with above-average pollution peaks from a set of data.\n",
    "## Data: air quality index AQI data (row = city)\n",
    "X = np.array(\n",
    "    [[ 42, 40, 41, 43, 44, 43 ], # Hong Kong\n",
    "     [ 30, 31, 29, 29, 29, 30 ], # New York\n",
    "     [ 8, 13, 31, 11, 11, 9 ], # Berlin\n",
    "     [ 11, 11, 12, 13, 11, 12 ]]) # Montreal\n",
    "\n",
    "cities = np.array(['Hong Kong', 'New York', 'Berlin', 'Montreal'])\n",
    "\n",
    "polluted = set(cities[np.nonzero(X>np.average(X))[0]])\n",
    "polluted"
   ],
   "metadata": {
    "collapsed": false,
    "pycharm": {
     "name": "#%%\n"
    }
   }
  },
  {
   "cell_type": "code",
   "execution_count": 28,
   "outputs": [
    {
     "name": "stdout",
     "output_type": "stream",
     "text": [
      "Highest salary: ['Alice']\n"
     ]
    }
   ],
   "source": [
    "\"\"\"\n",
    "Pull the name of the person with the highest salary from the matrix\n",
    "by using this idea of selective Boolean indexing.\n",
    "\"\"\"\n",
    "## Data: yearly salary in ($1000) [2017, 2018, 2019]\n",
    "alice = [99, 101, 103]\n",
    "bob = [110, 108, 105]\n",
    "tim = [90, 88, 85]\n",
    "\n",
    "salaries = np.array([alice, bob, tim])\n",
    "\n",
    "salaries_with_taxes = salaries - salaries * taxation\n",
    "names = np.array([\"Alice\", \"Bob\", \"Tim\"])\n",
    "\n",
    "print(\"Highest salary:\", names[np.nonzero(salaries_with_taxes.max())[0]])"
   ],
   "metadata": {
    "collapsed": false,
    "pycharm": {
     "name": "#%%\n"
    }
   }
  },
  {
   "cell_type": "code",
   "execution_count": 29,
   "outputs": [
    {
     "data": {
      "text/plain": "array(['@instagram', '@selenagomez', '@cristiano', '@beyonce'],\n      dtype='<U16')"
     },
     "execution_count": 29,
     "metadata": {},
     "output_type": "execute_result"
    }
   ],
   "source": [
    "\"\"\"\n",
    "Find the names of the Instagram superstars with more than 100 million followers!\n",
    "\"\"\"\n",
    "\n",
    "## Data: popular Instagram accounts (millions followers)\n",
    "inst = np.array([[232, '@instagram'],\n",
    "                 [133, '@selenagomez'],\n",
    "                 [59,  '@victoriassecret'],\n",
    "                 [120, '@cristiano'],\n",
    "                 [111, '@beyonce'],\n",
    "                 [76,  '@nike']])\n",
    "\n",
    "superstars = inst[inst[:,0].astype(float) > 100, 1]\n",
    "superstars"
   ],
   "metadata": {
    "collapsed": false,
    "pycharm": {
     "name": "#%%\n"
    }
   }
  },
  {
   "cell_type": "code",
   "execution_count": 30,
   "outputs": [
    {
     "name": "stdout",
     "output_type": "stream",
     "text": [
      "[[1 2 3]\n",
      " [4 5 6]]\n",
      "\n",
      "\n",
      "\n",
      "[[1 2]\n",
      " [3 4]\n",
      " [5 6]]\n"
     ]
    }
   ],
   "source": [
    "\"Reshape, el -1 le indica a numpy con el numero correcto de elementos\"\n",
    "a = np.array([1, 2, 3, 4, 5, 6])\n",
    "print(a.reshape((2,-1)))\n",
    "print(\"\\n\"*2)\n",
    "print(a.reshape((-1,2)))"
   ],
   "metadata": {
    "collapsed": false,
    "pycharm": {
     "name": "#%%\n"
    }
   }
  },
  {
   "cell_type": "code",
   "execution_count": 31,
   "outputs": [
    {
     "name": "stdout",
     "output_type": "stream",
     "text": [
      "[1.5 2.  4. ]\n"
     ]
    }
   ],
   "source": [
    "\"\"\"\n",
    "Here is an array solar_x that contains daily stock prices of Elon Musk’s SolarX company.\n",
    "We want to calculate the average stock prices in the mornings, middays,\n",
    "and evenings. How can we achieve this?\n",
    "\"\"\"\n",
    "# daily stock prices\n",
    "# [morning, midday, evening]\n",
    "solar_x = np.array(\n",
    "    [[1, 2, 3], # today\n",
    "     [2, 2, 5]]) # yesterday\n",
    "\n",
    "print(np.average(solar_x, axis=0))"
   ],
   "metadata": {
    "collapsed": false,
    "pycharm": {
     "name": "#%%\n"
    }
   }
  },
  {
   "cell_type": "code",
   "execution_count": 32,
   "outputs": [
    {
     "data": {
      "text/plain": "array([1, 2, 3, 4, 3, 4, 3, 5, 3, 3, 4, 3, 4, 4, 6, 5, 5, 5, 4, 5, 5])"
     },
     "execution_count": 32,
     "metadata": {},
     "output_type": "execute_result"
    }
   ],
   "source": [
    "\"\"\"\n",
    "Given an array of temperature values, replace every seventh temperature value with\n",
    "the average of the last seven days (including the seventh day’s temperature value).\n",
    "\"\"\"\n",
    "## Sensor data (Mo, Tu, We, Th, Fr, Sa, Su)\n",
    "tmp = np.array([1, 2, 3, 4, 3, 4, 4,\n",
    "                5, 3, 3, 4, 3, 4, 6,\n",
    "                6, 5, 5, 5, 4, 5, 5])\n",
    "\n",
    "tmp[6::7] = np.average(tmp.reshape((-1,7)), axis=1)\n",
    "tmp"
   ],
   "metadata": {
    "collapsed": false,
    "pycharm": {
     "name": "#%%\n"
    }
   }
  },
  {
   "cell_type": "code",
   "execution_count": 33,
   "outputs": [
    {
     "data": {
      "text/plain": "array(['Alice', 'Frank', 'Carl'], dtype='<U5')"
     },
     "execution_count": 33,
     "metadata": {},
     "output_type": "execute_result"
    }
   ],
   "source": [
    "\"\"\"\n",
    "Find the names of the top three students with the highest SAT scores.\n",
    "Note that you’ll ask for the student names and not the sorted SAT scores.\n",
    "\"\"\"\n",
    "## Data: SAT scores for different students\n",
    "sat_scores = np.array([1100, 1256, 1543, 1043, 989, 1412, 1343])\n",
    "students = np.array(['John', 'Bob', 'Alice', 'Joe', 'Jane', 'Frank', 'Carl'])\n",
    "\n",
    "top_3 = students[np.argsort(sat_scores)[:-4:-1]]\n",
    "top_3"
   ],
   "metadata": {
    "collapsed": false,
    "pycharm": {
     "name": "#%%\n"
    }
   }
  },
  {
   "cell_type": "code",
   "execution_count": 34,
   "outputs": [
    {
     "name": "stdout",
     "output_type": "stream",
     "text": [
      "[['Coffee Break NumPy' '4.6']\n",
      " ['Lord of the Rings' '5.0']\n",
      " ['Harry Potter' '4.3']\n",
      " ['Coffee Break Python' '4.7']]\n"
     ]
    }
   ],
   "source": [
    "\"\"\"\n",
    "Create a filter function that takes a list of books x and a minimum rating y\n",
    "and returns a list of potential bestsellers that have higher than minimum rating, y'>y.\n",
    "\"\"\"\n",
    "## Data (row = [title, rating])\n",
    "books = np.array([['Coffee Break NumPy', 4.6],\n",
    "                  ['Lord of the Rings', 5.0],\n",
    "                  ['Harry Potter', 4.3],\n",
    "                  ['Winnie-the-Pooh', 3.9],\n",
    "                  ['The Clown of God', 2.2],\n",
    "                  ['Coffee Break Python', 4.7]])\n",
    "\n",
    "best_seller_predictor = lambda x,y: x[x[:,1].astype(float) > y]\n",
    "\n",
    "print(best_seller_predictor(books, 3.9))"
   ],
   "metadata": {
    "collapsed": false,
    "pycharm": {
     "name": "#%%\n"
    }
   }
  },
  {
   "cell_type": "code",
   "execution_count": 36,
   "outputs": [
    {
     "data": {
      "text/plain": "<Figure size 432x288 with 1 Axes>",
      "image/png": "[encoded data removed]"
     },
     "metadata": {
      "needs_background": "light"
     },
     "output_type": "display_data"
    }
   ],
   "source": [
    "import matplotlib.pyplot as plt\n",
    "\n",
    "sequence = np.random.normal(10.0, 1.0, 500)\n",
    "\n",
    "plt.hist(sequence)\n",
    "plt.annotate(r'$\\omega_1=9$', (9, 70))\n",
    "plt.annotate(r'$\\omega_2=11$', (11, 70))\n",
    "plt.annotate(r'$\\mu=10$', (10, 90))\n",
    "plt.show()"
   ],
   "metadata": {
    "collapsed": false,
    "pycharm": {
     "name": "#%%\n"
    }
   }
  },
  {
   "cell_type": "code",
   "execution_count": 42,
   "outputs": [
    {
     "name": "stdout",
     "output_type": "stream",
     "text": [
      "[[1008   65  128]]\n"
     ]
    }
   ],
   "source": [
    "\"\"\"\n",
    "find all outlier days for which the statistics deviate more than\n",
    "the standard deviation from their mean statistics.\n",
    "\"\"\"\n",
    "\n",
    "## Website analytics data:\n",
    "## (row = day), (col = users, bounce, duration)\n",
    "a = np.array([[815, 70, 115],\n",
    "              [767, 80, 50],\n",
    "              [912, 74, 77],\n",
    "              [554, 88, 70],\n",
    "              [1008, 65, 128]])\n",
    "mean, stdev = np.mean(a, axis=0), np.std(a, axis=0)\n",
    "# [811.2  76.4  88. ], [152.97764543   6.85857128  29.04479299]\n",
    "\n",
    "outliers = ((np.abs(a[:,0] - mean[0]) > stdev[0])\n",
    "            * (np.abs(a[:,1] - mean[1]) > stdev[1])\n",
    "            * (np.abs(a[:,2] - mean[2]) > stdev[2]))\n",
    "print(a[outliers])"
   ],
   "metadata": {
    "collapsed": false,
    "pycharm": {
     "name": "#%%\n"
    }
   }
  },
  {
   "cell_type": "code",
   "execution_count": 46,
   "outputs": [
    {
     "name": "stdout",
     "output_type": "stream",
     "text": [
      "0.25\n"
     ]
    }
   ],
   "source": [
    "\"\"\"\n",
    "what fraction of customers bought two ebooks together?\n",
    "Based on this data, the recommender system can offer customers\n",
    "a book “bundle” to buy if it sees that they originally\n",
    "intended to buy a single book.\n",
    "\"\"\"\n",
    "## Data: row is customer shopping basket\n",
    "## row = [course 1, course 2, ebook 1, ebook 2]\n",
    "## value 1 indicates that an item was bought.\n",
    "basket = np.array([[0, 1, 1, 0],\n",
    "                   [0, 0, 0, 1],\n",
    "                   [1, 1, 0, 0],\n",
    "                   [0, 1, 1, 1],\n",
    "                   [1, 1, 1, 0],\n",
    "                   [0, 1, 1, 0],\n",
    "                   [1, 1, 0, 1],\n",
    "                   [1, 1, 1, 1]])\n",
    "\n",
    "copurchases = np.sum(np.all(basket[:,2:], axis = 1)) / basket.shape[0]\n",
    "print(copurchases)\n"
   ],
   "metadata": {
    "collapsed": false,
    "pycharm": {
     "name": "#%%\n"
    }
   }
  },
  {
   "cell_type": "code",
   "execution_count": 51,
   "outputs": [
    {
     "name": "stdout",
     "output_type": "stream",
     "text": [
      "(1, 2, 5)\n"
     ]
    }
   ],
   "source": [
    "\"\"\"\n",
    "Find the two items that were purchased most often together\n",
    "\"\"\"\n",
    "copurchases = [(i,j,np.sum(basket[:,i] + basket[:,j] == 2))\n",
    "               for i in range(4) for j in range(i+1,4)]\n",
    "\n",
    "print(max(copurchases, key=lambda x:x[2]))"
   ],
   "metadata": {
    "collapsed": false,
    "pycharm": {
     "name": "#%%\n"
    }
   }
  },
  {
   "cell_type": "code",
   "execution_count": 54,
   "outputs": [
    {
     "data": {
      "text/plain": "array([False, False,  True, False,  True, False,  True,  True])"
     },
     "execution_count": 54,
     "metadata": {},
     "output_type": "execute_result"
    }
   ],
   "source": [],
   "metadata": {
    "collapsed": false,
    "pycharm": {
     "name": "#%%\n"
    }
   }
  },
  {
   "cell_type": "code",
   "execution_count": 35,
   "outputs": [],
   "source": [],
   "metadata": {
    "collapsed": false,
    "pycharm": {
     "name": "#%%\n"
    }
   }
  },
  {
   "cell_type": "code",
   "execution_count": 35,
   "outputs": [],
   "source": [],
   "metadata": {
    "collapsed": false,
    "pycharm": {
     "name": "#%%\n"
    }
   }
  },
  {
   "cell_type": "code",
   "execution_count": 35,
   "outputs": [],
   "source": [],
   "metadata": {
    "collapsed": false,
    "pycharm": {
     "name": "#%%\n"
    }
   }
  },
  {
   "cell_type": "code",
   "execution_count": 35,
   "outputs": [],
   "source": [],
   "metadata": {
    "collapsed": false,
    "pycharm": {
     "name": "#%%\n"
    }
   }
  },
  {
   "cell_type": "code",
   "execution_count": 35,
   "outputs": [],
   "source": [],
   "metadata": {
    "collapsed": false,
    "pycharm": {
     "name": "#%%\n"
    }
   }
  },
  {
   "cell_type": "code",
   "execution_count": 35,
   "outputs": [],
   "source": [],
   "metadata": {
    "collapsed": false,
    "pycharm": {
     "name": "#%%\n"
    }
   }
  },
  {
   "cell_type": "code",
   "execution_count": 35,
   "outputs": [],
   "source": [],
   "metadata": {
    "collapsed": false,
    "pycharm": {
     "name": "#%%\n"
    }
   }
  },
  {
   "cell_type": "code",
   "execution_count": 35,
   "outputs": [],
   "source": [],
   "metadata": {
    "collapsed": false,
    "pycharm": {
     "name": "#%%\n"
    }
   }
  },
  {
   "cell_type": "code",
   "execution_count": null,
   "outputs": [],
   "source": [
    "\n"
   ],
   "metadata": {
    "collapsed": false,
    "pycharm": {
     "name": "#%%\n"
    }
   }
  }
 ],
 "metadata": {
  "kernelspec": {
   "display_name": "Python 3",
   "language": "python",
   "name": "python3"
  },
  "language_info": {
   "codemirror_mode": {
    "name": "ipython",
    "version": 2
   },
   "file_extension": ".py",
   "mimetype": "text/x-python",
   "name": "python",
   "nbconvert_exporter": "python",
   "pygments_lexer": "ipython2",
   "version": "2.7.6"
  }
 },
 "nbformat": 4,
 "nbformat_minor": 0
}