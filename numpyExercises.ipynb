{
 "cells": [
  {
   "cell_type": "code",
   "execution_count": 2,
   "metadata": {
    "collapsed": true
   },
   "outputs": [
    {
     "name": "stdout",
     "output_type": "stream",
     "text": [
      "[1 2 3]\n"
     ]
    }
   ],
   "source": [
    "import numpy as np\n",
    "\n",
    "# Creating a 1D array from a list\n",
    "a = np.array([1, 2, 3])\n",
    "print(a)"
   ]
  },
  {
   "cell_type": "code",
   "execution_count": 3,
   "outputs": [
    {
     "name": "stdout",
     "output_type": "stream",
     "text": [
      "[[1 2]\n",
      " [3 4]]\n"
     ]
    }
   ],
   "source": [
    "# Creating a 2D array from a list of lists\n",
    "b = np.array([[1, 2],\n",
    "              [3, 4]])\n",
    "\n",
    "print(b)"
   ],
   "metadata": {
    "collapsed": false,
    "pycharm": {
     "name": "#%%\n"
    }
   }
  },
  {
   "cell_type": "code",
   "execution_count": 4,
   "outputs": [
    {
     "name": "stdout",
     "output_type": "stream",
     "text": [
      "[[[1 2]\n",
      "  [3 4]]\n",
      "\n",
      " [[5 6]\n",
      "  [7 8]]]\n"
     ]
    }
   ],
   "source": [
    "# Creating a 3D array from a list of lists of lists\n",
    "c = np.array([[[1, 2], [3, 4]],\n",
    "              [[5, 6], [7, 8]]])\n",
    "print(c)"
   ],
   "metadata": {
    "collapsed": false,
    "pycharm": {
     "name": "#%%\n"
    }
   }
  },
  {
   "cell_type": "code",
   "execution_count": 5,
   "outputs": [
    {
     "name": "stdout",
     "output_type": "stream",
     "text": [
      "[[2 1 1]\n",
      " [2 2 3]\n",
      " [3 1 2]]\n"
     ]
    }
   ],
   "source": [
    "a = np.array([[1, 0, 0],\n",
    "              [1, 1, 1],\n",
    "              [2, 0, 0]])\n",
    "\n",
    "b = np.array([[1, 1, 1],\n",
    "              [1, 1, 2],\n",
    "              [1, 1, 2]])\n",
    "\n",
    "\n",
    "print(a + b)\n"
   ],
   "metadata": {
    "collapsed": false,
    "pycharm": {
     "name": "#%%\n"
    }
   }
  },
  {
   "cell_type": "code",
   "execution_count": 6,
   "outputs": [
    {
     "name": "stdout",
     "output_type": "stream",
     "text": [
      "[[ 0 -1 -1]\n",
      " [ 0  0 -1]\n",
      " [ 1 -1 -2]]\n"
     ]
    }
   ],
   "source": [
    "print(a - b)"
   ],
   "metadata": {
    "collapsed": false,
    "pycharm": {
     "name": "#%%\n"
    }
   }
  },
  {
   "cell_type": "code",
   "execution_count": 7,
   "outputs": [
    {
     "name": "stdout",
     "output_type": "stream",
     "text": [
      "[[1 0 0]\n",
      " [1 1 2]\n",
      " [2 0 0]]\n"
     ]
    }
   ],
   "source": [
    "\n",
    "print(a * b)"
   ],
   "metadata": {
    "collapsed": false,
    "pycharm": {
     "name": "#%%\n"
    }
   }
  },
  {
   "cell_type": "code",
   "execution_count": 8,
   "outputs": [
    {
     "name": "stdout",
     "output_type": "stream",
     "text": [
      "[[1.  0.  0. ]\n",
      " [1.  1.  0.5]\n",
      " [2.  0.  0. ]]\n"
     ]
    }
   ],
   "source": [
    "\n",
    "print(a / b)"
   ],
   "metadata": {
    "collapsed": false,
    "pycharm": {
     "name": "#%%\n"
    }
   }
  },
  {
   "cell_type": "code",
   "execution_count": 9,
   "outputs": [
    {
     "name": "stdout",
     "output_type": "stream",
     "text": [
      "2\n"
     ]
    }
   ],
   "source": [
    "a = np.array([[1, 0, 0],\n",
    "              [1, 1, 1],\n",
    "              [2, 0, 0]])\n",
    "\n",
    "print(np.max(a))"
   ],
   "metadata": {
    "collapsed": false,
    "pycharm": {
     "name": "#%%\n"
    }
   }
  },
  {
   "cell_type": "code",
   "execution_count": 10,
   "outputs": [
    {
     "name": "stdout",
     "output_type": "stream",
     "text": [
      "0\n"
     ]
    }
   ],
   "source": [
    "print(np.min(a))"
   ],
   "metadata": {
    "collapsed": false,
    "pycharm": {
     "name": "#%%\n"
    }
   }
  },
  {
   "cell_type": "code",
   "execution_count": 11,
   "outputs": [
    {
     "name": "stdout",
     "output_type": "stream",
     "text": [
      "0.6666666666666666\n"
     ]
    }
   ],
   "source": [
    "print(np.average(a))"
   ],
   "metadata": {
    "collapsed": false,
    "pycharm": {
     "name": "#%%\n"
    }
   }
  },
  {
   "cell_type": "code",
   "execution_count": 15,
   "outputs": [
    {
     "name": "stdout",
     "output_type": "stream",
     "text": [
      "81.0\n",
      "\n",
      "[[79.2  75.75 80.34]\n",
      " [66.   54.   52.5 ]\n",
      " [81.   70.4  76.5 ]]\n"
     ]
    }
   ],
   "source": [
    "\"\"\"\n",
    "How do we find the maximum after-tax income in a group of people,\n",
    "given their yearly salary and tax rates?\n",
    "\n",
    "Let’s tackle this problem by using the salary data of Alice, Bob, and Tim.\n",
    "It seems like Bob has enjoyed the highest salary in the last three years.\n",
    "But is he actually bringing home the most money, considering the individual tax rates\n",
    "of our three friends?\n",
    "\"\"\"\n",
    "\n",
    "## Data: yearly salary in ($1000) [2017, 2018, 2019]\n",
    "alice = [99, 101, 103]\n",
    "bob = [110, 108, 105]\n",
    "tim = [90, 88, 85]\n",
    "\n",
    "salaries = np.array([alice, bob, tim])\n",
    "taxation = np.array([[0.2, 0.25, 0.22],\n",
    "                     [0.4, 0.5, 0.5],\n",
    "                     [0.1, 0.2, 0.1]])\n",
    "\n",
    "max_income = np.max(salaries - salaries * taxation)\n",
    "print(max_income)\n",
    "print(\"\")\n",
    "print(salaries - salaries * taxation)"
   ],
   "metadata": {
    "collapsed": false,
    "pycharm": {
     "name": "#%%\n"
    }
   }
  },
  {
   "cell_type": "code",
   "execution_count": 18,
   "outputs": [
    {
     "name": "stdout",
     "output_type": "stream",
     "text": [
      "0.25\n",
      "0.25\n"
     ]
    }
   ],
   "source": [
    "lista_python = [[0.2, 0.25, 0.22],\n",
    "                [0.4, 0.5, 0.5],\n",
    "                [0.1, 0.2, 0.1]]\n",
    "\n",
    "print(lista_python[0][1])\n",
    "\n",
    "lista_numpy = np.array(lista_python)\n",
    "print(lista_numpy[0,1]) #Easier"
   ],
   "metadata": {
    "collapsed": false,
    "pycharm": {
     "name": "#%%\n"
    }
   }
  },
  {
   "cell_type": "code",
   "execution_count": 19,
   "outputs": [
    {
     "name": "stdout",
     "output_type": "stream",
     "text": [
      "[61 59 57]\n"
     ]
    }
   ],
   "source": [
    "a = np.array([55, 56, 57, 58, 59, 60, 61])\n",
    "print(a[:1:-2])"
   ],
   "metadata": {
    "collapsed": false,
    "pycharm": {
     "name": "#%%\n"
    }
   }
  },
  {
   "cell_type": "code",
   "execution_count": 21,
   "outputs": [
    {
     "name": "stdout",
     "output_type": "stream",
     "text": [
      "[61 59]\n"
     ]
    }
   ],
   "source": [
    "print(a[:2:-2])"
   ],
   "metadata": {
    "collapsed": false,
    "pycharm": {
     "name": "#%%\n"
    }
   }
  },
  {
   "cell_type": "code",
   "execution_count": 49,
   "outputs": [
    {
     "name": "stdout",
     "output_type": "stream",
     "text": [
      "[61 59 57]\n",
      "[61 59 57]\n",
      "[60]\n",
      "[60 59]\n"
     ]
    }
   ],
   "source": [
    "print(a[:1:-2])\n",
    "print(a[-1:1:-2])\n",
    "print(a[-2:-3:-1])\n",
    "print(a[-2:-4:-1])"
   ],
   "metadata": {
    "collapsed": false,
    "pycharm": {
     "name": "#%%\n"
    }
   }
  },
  {
   "cell_type": "code",
   "execution_count": 54,
   "outputs": [
    {
     "name": "stdout",
     "output_type": "stream",
     "text": [
      "[ 2  6 10 14]\n"
     ]
    }
   ],
   "source": [
    "a = np.array([[0, 1, 2, 3],\n",
    "              [4, 5, 6, 7],\n",
    "              [8, 9, 10, 11],\n",
    "              [12, 13, 14, 15]])\n",
    "\n",
    "# Third col: [ 2  6 10 14]\n",
    "print(a[:, 2])\n",
    "\n"
   ],
   "metadata": {
    "collapsed": false,
    "pycharm": {
     "name": "#%%\n"
    }
   }
  },
  {
   "cell_type": "code",
   "execution_count": 55,
   "outputs": [
    {
     "name": "stdout",
     "output_type": "stream",
     "text": [
      "[4 5 6 7]\n"
     ]
    }
   ],
   "source": [
    "# Second row: [4 5 6 7]\n",
    "print(a[1, :])"
   ],
   "metadata": {
    "collapsed": false,
    "pycharm": {
     "name": "#%%\n"
    }
   }
  },
  {
   "cell_type": "code",
   "execution_count": 57,
   "outputs": [
    {
     "name": "stdout",
     "output_type": "stream",
     "text": [
      "[4 6]\n"
     ]
    }
   ],
   "source": [
    "# Second row, every other element: [4 6]\n",
    "print(a[1, ::2])"
   ],
   "metadata": {
    "collapsed": false,
    "pycharm": {
     "name": "#%%\n"
    }
   }
  },
  {
   "cell_type": "code",
   "execution_count": 58,
   "outputs": [
    {
     "name": "stdout",
     "output_type": "stream",
     "text": [
      "[[ 0  1  2]\n",
      " [ 4  5  6]\n",
      " [ 8  9 10]\n",
      " [12 13 14]]\n"
     ]
    }
   ],
   "source": [
    "# All columns except last:\n",
    "print(a[:, :-1])"
   ],
   "metadata": {
    "collapsed": false,
    "pycharm": {
     "name": "#%%\n"
    }
   }
  },
  {
   "cell_type": "code",
   "execution_count": 59,
   "outputs": [
    {
     "name": "stdout",
     "output_type": "stream",
     "text": [
      "1\n"
     ]
    }
   ],
   "source": [
    "a = np.array([1, 2, 3, 4])\n",
    "print(a.ndim)"
   ],
   "metadata": {
    "collapsed": false,
    "pycharm": {
     "name": "#%%\n"
    }
   }
  },
  {
   "cell_type": "code",
   "execution_count": 60,
   "outputs": [
    {
     "name": "stdout",
     "output_type": "stream",
     "text": [
      "2\n"
     ]
    }
   ],
   "source": [
    "b = np.array([[2, 1, 2], [3, 2, 3], [4, 3, 4]])\n",
    "print(b.ndim)"
   ],
   "metadata": {
    "collapsed": false,
    "pycharm": {
     "name": "#%%\n"
    }
   }
  },
  {
   "cell_type": "code",
   "execution_count": 61,
   "outputs": [
    {
     "name": "stdout",
     "output_type": "stream",
     "text": [
      "3\n"
     ]
    }
   ],
   "source": [
    "c = np.array([[[1, 2, 3], [2, 3, 4], [3, 4, 5]],\n",
    "              [[1, 2, 4], [2, 3, 5], [3, 4, 6]]])\n",
    "\n",
    "print(c.ndim)\n",
    "print(c.shape)"
   ],
   "metadata": {
    "collapsed": false,
    "pycharm": {
     "name": "#%%\n"
    }
   }
  },
  {
   "cell_type": "code",
   "execution_count": 75,
   "outputs": [
    {
     "data": {
      "text/plain": "array([[143, 145, 150],\n       [127, 140, 145],\n       [118, 118, 127],\n       [129, 131, 137]])"
     },
     "execution_count": 75,
     "metadata": {},
     "output_type": "execute_result"
    }
   ],
   "source": [
    "\"\"\"\n",
    "You have data for a variety of professions, and you want to increase\n",
    "the salaries of just the data scientists by 10 percent every other year.\n",
    "\"\"\"\n",
    "\n",
    "# Data: yearly salary in ($1000) [2025, 2026, 2027]\n",
    "dataScientist =     [130, 132, 137]\n",
    "productManager =    [127, 140, 145]\n",
    "designer =          [118, 118, 127]\n",
    "softwareEngineer =  [129, 131, 137]\n",
    "\n",
    "employees = np.array([dataScientist,\n",
    "                      productManager,\n",
    "                      designer,\n",
    "                      softwareEngineer])\n",
    "\n",
    "employees[0,] = employees[0,]*1.1\n",
    "employees"
   ],
   "metadata": {
    "collapsed": false,
    "pycharm": {
     "name": "#%%\n"
    }
   }
  },
  {
   "cell_type": "code",
   "execution_count": 77,
   "outputs": [
    {
     "name": "stdout",
     "output_type": "stream",
     "text": [
      "(array([0, 1, 1, 2], dtype=int64), array([0, 1, 2, 0], dtype=int64))\n",
      "1\n"
     ]
    }
   ],
   "source": [
    "X = np.array([[1, 0, 0],\n",
    "              [0, 2, 2],\n",
    "              [3, 0, 0]])\n",
    "\n",
    "print(np.nonzero(X))\n",
    "print( X[0,0])\n",
    "print( X[1,2])"
   ],
   "metadata": {
    "collapsed": false,
    "pycharm": {
     "name": "#%%\n"
    }
   }
  },
  {
   "cell_type": "code",
   "execution_count": null,
   "outputs": [],
   "source": [
    "\n"
   ],
   "metadata": {
    "collapsed": false,
    "pycharm": {
     "name": "#%%\n"
    }
   }
  }
 ],
 "metadata": {
  "kernelspec": {
   "display_name": "Python 3",
   "language": "python",
   "name": "python3"
  },
  "language_info": {
   "codemirror_mode": {
    "name": "ipython",
    "version": 2
   },
   "file_extension": ".py",
   "mimetype": "text/x-python",
   "name": "python",
   "nbconvert_exporter": "python",
   "pygments_lexer": "ipython2",
   "version": "2.7.6"
  }
 },
 "nbformat": 4,
 "nbformat_minor": 0
}